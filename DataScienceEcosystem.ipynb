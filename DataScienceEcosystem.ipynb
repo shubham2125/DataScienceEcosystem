{
  "metadata": {
    "kernelspec": {
      "name": "python",
      "display_name": "Python (Pyodide)",
      "language": "python"
    },
    "language_info": {
      "codemirror_mode": {
        "name": "python",
        "version": 3
      },
      "file_extension": ".py",
      "mimetype": "text/x-python",
      "name": "python",
      "nbconvert_exporter": "python",
      "pygments_lexer": "ipython3",
      "version": "3.8"
    }
  },
  "nbformat_minor": 4,
  "nbformat": 4,
  "cells": [
    {
      "cell_type": "markdown",
      "source": "# Data Science Final Project\n",
      "metadata": {}
    },
    {
      "cell_type": "markdown",
      "source": "## Introduction\nThis notebook demonstrates various exercises and concepts related to data science. The purpose is to illustrate the use of markdown and code cells effectively in Jupyter Notebooks.\n",
      "metadata": {}
    },
    {
      "cell_type": "code",
      "source": "## Data Science Languages\n1. Python\n2. R\n3. SQL\n4. Julia\n5. Java\n6. Scala\n",
      "metadata": {
        "trusted": true
      },
      "outputs": [],
      "execution_count": null
    },
    {
      "cell_type": "code",
      "source": "## Data Science Libraries\n1. NumPy\n2. Pandas\n3. Matplotlib\n4. Scikit-learn\n5. TensorFlow\n6. Keras\n",
      "metadata": {
        "trusted": true
      },
      "outputs": [],
      "execution_count": null
    },
    {
      "cell_type": "code",
      "source": "## Data Science Tools\n| Tool                | Description                       |\n|---------------------|-----------------------------------|\n| Jupyter Notebook    | Interactive development tool     |\n| RStudio             | IDE for R programming            |\n| Apache Spark        | Big data processing framework    |\n| Tableau             | Data visualization software      |\n| TensorFlow          | Machine learning framework       |\n",
      "metadata": {
        "trusted": true
      },
      "outputs": [],
      "execution_count": null
    },
    {
      "cell_type": "code",
      "source": "## Arithmetic Expression Examples\nThis section includes examples of basic arithmetic operations such as addition, subtraction, multiplication, and division.\n",
      "metadata": {
        "trusted": true
      },
      "outputs": [],
      "execution_count": null
    },
    {
      "cell_type": "code",
      "source": "# Multiplication and addition of numbers\nresult = (3 * 4) + 5\nresult\n",
      "metadata": {
        "trusted": true
      },
      "outputs": [],
      "execution_count": null
    },
    {
      "cell_type": "code",
      "source": "# Conversion of minutes to hours\nminutes = 200\nhours = minutes / 60\nhours\n",
      "metadata": {
        "trusted": true
      },
      "outputs": [],
      "execution_count": null
    },
    {
      "cell_type": "code",
      "source": "## Objectives\n- Understand and list programming languages used in data science.\n- Identify popular libraries for data analysis and machine learning.\n- Demonstrate the use of arithmetic expressions.\n- Share and document projects effectively through GitHub.\n",
      "metadata": {
        "trusted": true
      },
      "outputs": [],
      "execution_count": null
    },
    {
      "cell_type": "code",
      "source": "## Author\nShubham kumar\n",
      "metadata": {
        "trusted": true
      },
      "outputs": [],
      "execution_count": null
    }
  ]
}